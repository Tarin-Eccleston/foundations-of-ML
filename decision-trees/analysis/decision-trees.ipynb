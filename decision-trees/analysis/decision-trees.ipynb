{
 "cells": [
  {
   "cell_type": "code",
   "execution_count": 26,
   "metadata": {},
   "outputs": [],
   "source": [
    "\n",
    "import sklearn as sk\n",
    "import pandas as pd\n",
    "import numpy as np\n"
   ]
  },
  {
   "attachments": {},
   "cell_type": "markdown",
   "metadata": {},
   "source": [
    "Question 1: Load the datasets and deal with missing values if applicable in a proper way and describe how you did it. One way you can do it is to replace the value with the mean value of the feature in the training set."
   ]
  },
  {
   "cell_type": "code",
   "execution_count": 27,
   "metadata": {},
   "outputs": [],
   "source": [
    "# load datasets\n",
    "phishing_df = pd.read_csv(r'../data/website-phishing.csv')\n",
    "bcp_df = pd.read_csv(r'../data/BCP.csv')\n",
    "arrhythmia_df = pd.read_csv(r'../data/arrhythmia.csv')"
   ]
  },
  {
   "cell_type": "code",
   "execution_count": 34,
   "metadata": {},
   "outputs": [],
   "source": [
    "# clean data, missing values in particular\n",
    "\n",
    "# convert \"?\" to NaN for readibility\n",
    "phishing_df.replace('?', np.nan, inplace=True)\n",
    "bcp_df.replace('?', np.nan, inplace=True)\n",
    "arrhythmia_df.replace('?', np.nan, inplace=True)\n",
    "\n",
    "# int for categorical \n",
    "# float for continuous\n",
    "\n",
    "phishing_df = phishing_df.astype(int)\n",
    "# unsure which features are numeric/categorical so make them all categorical\n",
    "bcp_df = bcp_df.astype(int)\n",
    "arrhythmia_df = arrhythmia_df.astype(float)\n",
    "# only sex and class are categorical\n",
    "arrhythmia_df[\" sex\"] = arrhythmia_df[\" sex\"].astype(int)\n",
    "arrhythmia_df[\"class\"] = arrhythmia_df[\"class\"].astype(int)\n",
    "\n",
    "# convert NaN values in each column to the mean of data in that column if it's continuous\n",
    "# and the mode if it's categorical\n",
    "# remove columns where 50%+ of the entries are missing values\n",
    "\n",
    "dfs = [phishing_df, bcp_df, arrhythmia_df]\n",
    "\n",
    "for df in dfs:\n",
    "    for col in df.columns:\n",
    "        if df[col].isna().sum() / len(df) > 0.5:\n",
    "            df.drop(col, axis=1, inplace=True)\n",
    "        elif df[col].isna().sum() > 0:\n",
    "            if df[col].dtype == int:\n",
    "                # \n",
    "                df[col].fillna(df[col].mode(), inplace=True)\n",
    "            else:\n",
    "                df[col].fillna(df[col].mean(), inplace=True)"
   ]
  },
  {
   "attachments": {},
   "cell_type": "markdown",
   "metadata": {},
   "source": [
    "Firstly, replace all question marks with NaN values for readability. There are many missing values, especially in the arrhythmia dataset. Two methods can be used to replace missing values. The choice between using the mode or mean for imputing missing values depends on the type of variable and the distribution of values. The mode is appropriate for categorical variables, while the mean is appropriate for normally distributed continuous variables. In this example, I looked through each column in the three dataframes independantly, and then decided which columns were most likely categorical or continuous. I would set the data type as int for categorical, and float for continuous. \n",
    "\n",
    "I loop through each column in each dataframe, and filled in missing values denoted by NaN with the mean or mode value of the column depending on if the column data is numeric or categorical. Columns with more than 50% of data as missing values are dropped as there isn't enough data to infer an accurate mean or mode."
   ]
  },
  {
   "attachments": {},
   "cell_type": "markdown",
   "metadata": {},
   "source": [
    "Question 2: Implement (1) a decision stump, (2) an unpruned decision tree, (3) a pruned decision tree. Apply (1)-(3) on each dataset. You can use scikit-learn packages. You can use pre-pruning and / or post-pruning techniques as your pruning strategy to obtain the pruned decision tree. Explain the pruning techniques you used."
   ]
  },
  {
   "cell_type": "code",
   "execution_count": null,
   "metadata": {},
   "outputs": [],
   "source": []
  }
 ],
 "metadata": {
  "kernelspec": {
   "display_name": "base",
   "language": "python",
   "name": "python3"
  },
  "language_info": {
   "codemirror_mode": {
    "name": "ipython",
    "version": 3
   },
   "file_extension": ".py",
   "mimetype": "text/x-python",
   "name": "python",
   "nbconvert_exporter": "python",
   "pygments_lexer": "ipython3",
   "version": "3.9.13"
  },
  "orig_nbformat": 4
 },
 "nbformat": 4,
 "nbformat_minor": 2
}
