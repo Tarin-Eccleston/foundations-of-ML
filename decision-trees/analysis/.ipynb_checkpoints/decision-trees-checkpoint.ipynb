{
 "cells": [
  {
   "cell_type": "code",
   "execution_count": 1,
   "metadata": {},
   "outputs": [],
   "source": [
    "\n",
    "import sklearn as sk\n",
    "from sklearn.tree import DecisionTreeClassifier\n",
    "from sklearn.model_selection import train_test_split\n",
    "from sklearn.metrics import accuracy_score\n",
    "\n",
    "import pandas as pd\n",
    "import numpy as np\n"
   ]
  },
  {
   "cell_type": "markdown",
   "metadata": {},
   "source": [
    "Question 1: Load the datasets and deal with missing values if applicable in a proper way and describe how you did it. One way you can do it is to replace the value with the mean value of the feature in the training set."
   ]
  },
  {
   "cell_type": "code",
   "execution_count": 2,
   "metadata": {},
   "outputs": [],
   "source": [
    "# load datasets\n",
    "phishing_df = pd.read_csv(r'../data/website-phishing.csv')\n",
    "bcp_df = pd.read_csv(r'../data/BCP.csv')\n",
    "arrhythmia_df = pd.read_csv(r'../data/arrhythmia.csv')"
   ]
  },
  {
   "cell_type": "code",
   "execution_count": 7,
   "metadata": {},
   "outputs": [],
   "source": [
    "# clean data, missing values in particular\n",
    "\n",
    "# convert \"?\" to NaN for readibility\n",
    "phishing_df.replace('?', np.nan, inplace=True)\n",
    "bcp_df.replace('?', np.nan, inplace=True)\n",
    "arrhythmia_df.replace('?', np.nan, inplace=True)\n",
    "\n",
    "# int for categorical \n",
    "# float for continuous\n",
    "\n",
    "phishing_df = phishing_df.astype(int)\n",
    "# unsure which features are numeric/categorical so make them all categorical\n",
    "bcp_df = bcp_df.astype(int)\n",
    "arrhythmia_df = arrhythmia_df.astype(float)\n",
    "# only sex and class are categorical\n",
    "arrhythmia_df[\" sex\"] = arrhythmia_df[\" sex\"].astype(int)\n",
    "arrhythmia_df[\"class\"] = arrhythmia_df[\"class\"].astype(int)\n",
    "\n",
    "# convert NaN values in each column to the mean of data in that column if it's continuous\n",
    "# and the mode if it's categorical\n",
    "# remove columns where 50%+ of the entries are missing values\n",
    "\n",
    "dfs = [phishing_df, bcp_df, arrhythmia_df]\n",
    "\n",
    "for df in dfs:\n",
    "    for col in df.columns:\n",
    "        if df[col].isna().sum() / len(df) > 0.5:\n",
    "            df.drop(col, axis=1, inplace=True)\n",
    "        elif df[col].isna().sum() > 0:\n",
    "            if df[col].dtype == int:\n",
    "                # \n",
    "                df[col].fillna(df[col].mode(), inplace=True)\n",
    "            else:\n",
    "                df[col].fillna(df[col].mean(), inplace=True)\n",
    "\n",
    "# rename class column for consistency when using for loops\n",
    "phishing_df.rename(columns={phishing_df.columns[-1]: 'class'}, inplace=True)\n",
    "bcp_df.rename(columns={bcp_df.columns[-1]: 'class'}, inplace=True)\n",
    "arrhythmia_df.rename(columns={arrhythmia_df.columns[-1]: 'class'}, inplace=True)"
   ]
  },
  {
   "cell_type": "markdown",
   "metadata": {},
   "source": [
    "Firstly, replace all question marks with NaN values for readability. There are many missing values, especially in the arrhythmia dataset. Two methods can be used to replace missing values. The choice between using the mode or mean for imputing missing values depends on the type of variable and the distribution of values. The mode is appropriate for categorical variables, while the mean is appropriate for normally distributed continuous variables. In this example, I looked through each column in the three dataframes independantly, and then decided which columns were most likely categorical or continuous. I would set the data type as int for categorical, and float for continuous. \n",
    "\n",
    "I loop through each column in each dataframe, and filled in missing values denoted by NaN with the mean or mode value of the column depending on if the column data is numeric or categorical. Columns with more than 50% of data as missing values are dropped as there isn't enough data to infer an accurate mean or mode."
   ]
  },
  {
   "cell_type": "markdown",
   "metadata": {},
   "source": [
    "Question 2: Implement (1) a decision stump, (2) an unpruned decision tree, (3) a pruned decision tree. Apply (1)-(3) on each dataset. You can use scikit-learn packages. You can use pre-pruning and / or post-pruning techniques as your pruning strategy to obtain the pruned decision tree. Explain the pruning techniques you used."
   ]
  },
  {
   "cell_type": "code",
   "execution_count": 9,
   "metadata": {},
   "outputs": [
    {
     "name": "stdout",
     "output_type": "stream",
     "text": [
      "Accuracy: [0.8809164908049443, 0.9219512195121952, 0.5955882352941176]\n"
     ]
    }
   ],
   "source": [
    "# decision stump\n",
    "# store accuracies for each dataset\n",
    "accuracies = []\n",
    "\n",
    "for df in dfs:\n",
    "    X = df.drop([\"class\"], axis=1)\n",
    "    y = df[\"class\"]\n",
    "\n",
    "    # split dataset into training and testing sets\n",
    "    # hyperparameters: training and testing split and random state\n",
    "    X_train, X_test, y_train, y_test = train_test_split(X, y, test_size=0.3, random_state=1)\n",
    "\n",
    "    # create a decision stump model\n",
    "    model = DecisionTreeClassifier(max_depth=1)\n",
    "\n",
    "    # fit the model to the training data\n",
    "    model.fit(X_train, y_train)\n",
    "\n",
    "    # make predictions on the testing data\n",
    "    y_pred = model.predict(X_test)\n",
    "\n",
    "    # calculate the accuracy of the model\n",
    "    accuracy = accuracy_score(y_test, y_pred)\n",
    "    accuracies.append(accuracy)\n",
    "    \n",
    "print(\"Accuracy:\", accuracies)"
   ]
  },
  {
   "cell_type": "code",
   "execution_count": null,
   "metadata": {},
   "outputs": [],
   "source": []
  }
 ],
 "metadata": {
  "kernelspec": {
   "display_name": "Python 3 (ipykernel)",
   "language": "python",
   "name": "python3"
  },
  "language_info": {
   "codemirror_mode": {
    "name": "ipython",
    "version": 3
   },
   "file_extension": ".py",
   "mimetype": "text/x-python",
   "name": "python",
   "nbconvert_exporter": "python",
   "pygments_lexer": "ipython3",
   "version": "3.9.13"
  }
 },
 "nbformat": 4,
 "nbformat_minor": 2
}
